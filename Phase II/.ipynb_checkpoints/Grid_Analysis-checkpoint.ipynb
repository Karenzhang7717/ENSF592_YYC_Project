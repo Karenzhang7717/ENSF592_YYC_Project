{
 "cells": [
  {
   "cell_type": "code",
   "execution_count": 1,
   "metadata": {},
   "outputs": [],
   "source": [
    "import pandas as pd\n",
    "import numpy as np"
   ]
  },
  {
   "cell_type": "code",
   "execution_count": 2,
   "metadata": {},
   "outputs": [],
   "source": [
    "# Define Calgary Border Boundaries\n",
    "lower_left = [50.842822,-114.315796]\n",
    "upper_right = [51.212425,-113.859905]\n",
    "\n",
    "# Divide Calgary into a list of 10x10 girds and fine list of latitudes and longitudes for grid boundaries \n",
    "lats = np.linspace(lower_left[0], upper_right[0], 11)\n",
    "longs = np.linspace(lower_left[1], upper_right[1], 11)"
   ]
  },
  {
   "cell_type": "code",
   "execution_count": null,
   "metadata": {},
   "outputs": [],
   "source": [
    "def find_grid_col(long):\n",
    "    \"\"\"\n",
    "    Return the column index for the given longitude in a 10x10 grid for Calgary.\n",
    "    :param long: longitude as a float\n",
    "    :return: the column index\n",
    "    \"\"\"\n",
    "    for i in range(10):\n",
    "        if long >= longs[i] and long < longs[i+1]:\n",
    "            return i"
   ]
  },
  {
   "cell_type": "code",
   "execution_count": 3,
   "metadata": {},
   "outputs": [],
   "source": [
    "def find_grid_row(lat):\n",
    "    \"\"\"\n",
    "    Return the row index for the given latitude in a 10x10 grid for Calgary.\n",
    "    :param lat: latitude as a float\n",
    "    :return: the row index\n",
    "    \"\"\"\n",
    "    for j in range(10):\n",
    "        if lat >= lats[j] and lat < lats[j+1]:\n",
    "            return j"
   ]
  },
  {
   "cell_type": "code",
   "execution_count": null,
   "metadata": {},
   "outputs": [],
   "source": [
    "def populate_grid(df):\n",
    "    \"\"\"\n",
    "    Find and return the counts based on the map coordinates in a 10x10 grid for Calgary.\n",
    "    :param df: a dataframe with columns longitude and latitude\n",
    "    :return: a 1D array (100,) with counts\n",
    "    \"\"\"\n",
    "    grid = np.zeros((10, 10))\n",
    "    \n",
    "    for idx, row in camera.iterrows():\n",
    "        if x is not None and y is not None:\n",
    "            x = find_grid_col(row['longitude'])\n",
    "            y = find_grid_row(row['latitude'])\n",
    "\n",
    "            grid[x, y] += 1\n",
    "            \n",
    "    return grid.ravel()"
   ]
  }
 ],
 "metadata": {
  "kernelspec": {
   "display_name": "Python 3",
   "language": "python",
   "name": "python3"
  },
  "language_info": {
   "codemirror_mode": {
    "name": "ipython",
    "version": 3
   },
   "file_extension": ".py",
   "mimetype": "text/x-python",
   "name": "python",
   "nbconvert_exporter": "python",
   "pygments_lexer": "ipython3",
   "version": "3.8.3"
  }
 },
 "nbformat": 4,
 "nbformat_minor": 4
}
