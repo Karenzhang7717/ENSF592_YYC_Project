{
 "cells": [
  {
   "cell_type": "code",
   "execution_count": null,
   "metadata": {},
   "outputs": [],
   "source": [
    "import folium\n",
    "import pandas as pd\n",
    "import numpy as np\n",
    "import io\n",
    "import json\n",
    "import matplotlib.pyplot as plt\n",
    "import matplotlib as mpl\n",
    "\n"
   ]
  },
  {
   "cell_type": "code",
   "execution_count": null,
   "metadata": {},
   "outputs": [],
   "source": [
    "base_coordinates = [51.044270, -114.062019]\n",
    "map = folium.Map(location=base_coordinates)\n",
    "map"
   ]
  },
  {
   "cell_type": "code",
   "execution_count": null,
   "metadata": {
    "scrolled": true
   },
   "outputs": [],
   "source": [
    "#Here is the series of code requried to print a border polyline\n",
    "\n",
    "city_boundary = pd.read_csv(\"City_Boundary_layer.csv\")\n",
    "polygon = city_boundary.iloc[0,1]\n",
    "polygon = polygon[10:len(polygon)-2]\n",
    "\n",
    "polygon_list = polygon.split(',')\n",
    "\n",
    "points = []\n",
    "for coord in polygon_list:\n",
    "    longitude ,latitude = coord.strip().split(' ')\n",
    "    coord_tuple = (float(latitude), float(longitude))\n",
    "    points.append(coord_tuple)\n",
    "\n",
    "folium.PolyLine(points, color='blue',weight=2.5, opacity=1).add_to(map)\n",
    "map"
   ]
  },
  {
   "cell_type": "code",
   "execution_count": null,
   "metadata": {},
   "outputs": [],
   "source": [
    "#TODO: Now we need to find the min and max of the longitude and latidude to define boundaries\n"
   ]
  },
  {
   "cell_type": "code",
   "execution_count": null,
   "metadata": {},
   "outputs": [],
   "source": [
    "df = pd.DataFrame(points)\n",
    "min_=df.min(axis=0)\n",
    "min_"
   ]
  },
  {
   "cell_type": "code",
   "execution_count": null,
   "metadata": {},
   "outputs": [],
   "source": [
    "max_=df.max(axis=0)\n",
    "max_"
   ]
  },
  {
   "cell_type": "code",
   "execution_count": null,
   "metadata": {},
   "outputs": [],
   "source": [
    "def get_geojson_grid(upper_right, lower_left, n=10):\n",
    "    \"\"\"Returns a grid of geojson rectangles, and computes the exposure in each section of the grid based on the vessel data.\n",
    "\n",
    "    Parameters\n",
    "    ----------\n",
    "    upper_right: array_like\n",
    "        The upper right hand corner of \"grid of grids\" (the default is the upper right hand [lat, lon] of the USA).\n",
    "\n",
    "    lower_left: array_like\n",
    "        The lower left hand corner of \"grid of grids\"  (the default is the lower left hand [lat, lon] of the USA).\n",
    "\n",
    "    n: integer\n",
    "        The number of rows/columns in the (n,n) grid.\n",
    "\n",
    "    Returns\n",
    "    -------\n",
    "\n",
    "    list\n",
    "        List of \"geojson style\" dictionary objects   \n",
    "    \"\"\"\n",
    "\n",
    "    all_boxes = []\n",
    "\n",
    "    lat_steps = np.linspace(lower_left[0], upper_right[0], n+1)\n",
    "    lon_steps = np.linspace(lower_left[1], upper_right[1], n+1)\n",
    "\n",
    "    lat_stride = lat_steps[1] - lat_steps[0]\n",
    "    lon_stride = lon_steps[1] - lon_steps[0]\n",
    "\n",
    "    for lat in lat_steps[:-1]:\n",
    "        for lon in lon_steps[:-1]:\n",
    "            # Define dimensions of box in grid\n",
    "            upper_left = [lon, lat + lat_stride]\n",
    "            upper_right = [lon + lon_stride, lat + lat_stride]\n",
    "            lower_right = [lon + lon_stride, lat]\n",
    "            lower_left = [lon, lat]\n",
    "\n",
    "            # Define json coordinates for polygon\n",
    "            coordinates = [\n",
    "                upper_left,\n",
    "                upper_right,\n",
    "                lower_right,\n",
    "                lower_left,\n",
    "                upper_left\n",
    "            ]\n",
    "\n",
    "            geo_json = {\"type\": \"FeatureCollection\",\n",
    "                        \"properties\":{\n",
    "                            \"lower_left\": lower_left,\n",
    "                            \"upper_right\": upper_right\n",
    "                        },\n",
    "                        \"features\":[]}\n",
    "\n",
    "            grid_feature = {\n",
    "                \"type\":\"Feature\",\n",
    "                \"geometry\":{\n",
    "                    \"type\":\"Polygon\",\n",
    "                    \"coordinates\": [coordinates],\n",
    "                }\n",
    "            }\n",
    "\n",
    "            geo_json[\"features\"].append(grid_feature)\n",
    "\n",
    "            all_boxes.append(geo_json)\n",
    "\n",
    "    return all_boxes"
   ]
  },
  {
   "cell_type": "code",
   "execution_count": null,
   "metadata": {},
   "outputs": [],
   "source": [
    "base_coordinates = [51.044270, -114.062019]\n",
    "map = folium.Map(location=base_coordinates)\n",
    "\n",
    "lower_left = [50.842822,-114.315796]\n",
    "upper_right = [51.212425,-113.859905]\n",
    "\n",
    "grid = get_geojson_grid(lower_left, upper_right, n=10)\n",
    "\n",
    "for i, geo_json in enumerate(grid):\n",
    "\n",
    "#     color = plt.cm.Reds(i / len(grid))\n",
    "#     color = mpl.colors.to_hex(color)\n",
    "\n",
    "    gj = folium.GeoJson(geo_json)\n",
    "    popup = folium.Popup(\"Traffic cameras {}\".format(i))\n",
    "    gj.add_child(popup)\n",
    "\n",
    "    map.add_child(gj)\n",
    "map"
   ]
  },
  {
   "cell_type": "code",
   "execution_count": null,
   "metadata": {},
   "outputs": [],
   "source": [
    "traffic_volume = pd.read_csv(\"Traffic_Volumes_for_2018.csv\")\n",
    "traffic_volume"
   ]
  },
  {
   "cell_type": "code",
   "execution_count": null,
   "metadata": {},
   "outputs": [],
   "source": [
    "traffic_volume=traffic_volume.rename({'multilinestring': 'location'})\n",
    "traffic_volume.columns=traffic_volume.columns.str.lower()\n",
    "traffic_volume.head()"
   ]
  },
  {
   "cell_type": "code",
   "execution_count": 6,
   "metadata": {},
   "outputs": [
    {
     "data": {
      "text/plain": [
       "[-114.2702069,\n",
       " -114.2246178,\n",
       " -114.1790287,\n",
       " -114.1334396,\n",
       " -114.0878505,\n",
       " -114.0422614,\n",
       " -113.9966723,\n",
       " -113.9510832,\n",
       " -113.9054941]"
      ]
     },
     "execution_count": 6,
     "metadata": {},
     "output_type": "execute_result"
    }
   ],
   "source": [
    "lat=[]\n",
    "long=[]\n",
    "temp_lat = 51.212425-50.842822\n",
    "temp_long=-113.859905-(-114.315796)\n",
    "num=50.842822\n",
    "num2=-113.859905\n",
    "for i in range(0,10):\n",
    "    num+= temp_lat/10\n",
    "    num2-=temp_long/10\n",
    "    lat.append(num)\n",
    "    long.append(num2)\n",
    "    \n",
    "long"
   ]
  },
  {
   "cell_type": "code",
   "execution_count": null,
   "metadata": {},
   "outputs": [],
   "source": []
  }
 ],
 "metadata": {
  "kernelspec": {
   "display_name": "Python 3",
   "language": "python",
   "name": "python3"
  },
  "language_info": {
   "codemirror_mode": {
    "name": "ipython",
    "version": 3
   },
   "file_extension": ".py",
   "mimetype": "text/x-python",
   "name": "python",
   "nbconvert_exporter": "python",
   "pygments_lexer": "ipython3",
   "version": "3.8.3"
  }
 },
 "nbformat": 4,
 "nbformat_minor": 4
}
